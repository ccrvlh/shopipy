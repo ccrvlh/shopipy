{
    "cells": [
        {
            "cell_type": "code",
            "execution_count": 1,
            "source": [
                "from shopipy import ShopiPy\n",
                "\n",
                "client = ShopiPy(\"terral-natural\")\n",
                "session = client.OAuth()"
            ],
            "outputs": [],
            "metadata": {}
        },
        {
            "cell_type": "code",
            "execution_count": null,
            "source": [],
            "outputs": [],
            "metadata": {}
        }
    ],
    "metadata": {
        "orig_nbformat": 4,
        "language_info": {
            "name": "python",
            "version": "3.9.6",
            "mimetype": "text/x-python",
            "codemirror_mode": {
                "name": "ipython",
                "version": 3
            },
            "pygments_lexer": "ipython3",
            "nbconvert_exporter": "python",
            "file_extension": ".py"
        },
        "kernelspec": {
            "name": "python3",
            "display_name": "Python 3.9.6 64-bit ('.venv': poetry)"
        },
        "interpreter": {
            "hash": "e4906fc54ffe404aaf79745acf2f7ef587b0874861df685ca589c50c7cbdc0b5"
        }
    },
    "nbformat": 4,
    "nbformat_minor": 2
}