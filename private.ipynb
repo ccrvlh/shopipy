{
    "cells": [
        {
            "cell_type": "code",
            "execution_count": 1,
            "source": [
                "# Private App\n",
                "# ===========\n",
                "from shopipy import ShopiPy\n",
                "\n",
                "# Set Credentials\n",
                "private_key = \"MY_APP_KEY\"\n",
                "private_password = \"MY_APP_PASSWORD\"\n",
                "shop_domain = \"MY_SHOP_DOMAIN\"\n",
                "shopify = ShopiPy(shop_domain=shop_domain, app_key=private_key, app_password=private_password)"
            ],
            "outputs": [],
            "metadata": {}
        },
        {
            "cell_type": "code",
            "execution_count": 2,
            "source": [
                "# Retrieve information\n",
                "product = shopify.Products.get(\"432432432432\")\n",
                "orders = shopify.Orders.count()"
            ],
            "outputs": [],
            "metadata": {}
        },
        {
            "cell_type": "code",
            "execution_count": 3,
            "source": [
                "webhooks = shopify.Webhooks.get_webhooks(fields=\"id,topic,address\")\n",
                "test1 = shopify.Webhooks.set_webhooks(topics=[\"orders/edited\", \"orders/created\"], address=\"https://myapp.com/\")"
            ],
            "outputs": [],
            "metadata": {}
        }
    ],
    "metadata": {
        "interpreter": {
            "hash": "e4906fc54ffe404aaf79745acf2f7ef587b0874861df685ca589c50c7cbdc0b5"
        },
        "kernelspec": {
            "name": "python3",
            "display_name": "Python 3.9.6 64-bit ('.venv': poetry)"
        },
        "language_info": {
            "codemirror_mode": {
                "name": "ipython",
                "version": 3
            },
            "file_extension": ".py",
            "mimetype": "text/x-python",
            "name": "python",
            "nbconvert_exporter": "python",
            "pygments_lexer": "ipython3",
            "version": "3.9.6"
        },
        "orig_nbformat": 4
    },
    "nbformat": 4,
    "nbformat_minor": 2
}