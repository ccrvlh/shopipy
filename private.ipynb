{
    "cells": [
        {
            "cell_type": "code",
            "execution_count": 2,
            "metadata": {},
            "outputs": [],
            "source": [
                "# Private App\n",
                "# ===========\n",
                "from shopipy import ShopiPy\n",
                "\n",
                "# Set Credentials\n",
                "private_key = \"af6d2eb2314c5eaec148c1a03ab969a6\"\n",
                "private_password = \"1bb9e42331cbfbba0dd4ed072e715ee9\"\n",
                "shopify = ShopiPy(shop_domain=\"terral-natural\", app_key=private_key, app_password=private_password)"
            ]
        },
        {
            "cell_type": "code",
            "execution_count": 3,
            "metadata": {},
            "outputs": [],
            "source": [
                "# Retrieve information\n",
                "product = shopify.Products.get(\"432432432432\")\n",
                "orders = shopify.Orders.count()"
            ]
        },
        {
            "cell_type": "code",
            "execution_count": 4,
            "metadata": {},
            "outputs": [
                {
                    "name": "stdout",
                    "output_type": "stream",
                    "text": [
                        "{'errors': 'Not Found'}\n",
                        "16356\n"
                    ]
                }
            ],
            "source": [
                "print(product)\n",
                "print(orders['count'])"
            ]
        },
        {
            "cell_type": "code",
            "execution_count": null,
            "metadata": {},
            "outputs": [],
            "source": []
        }
    ],
    "metadata": {
        "interpreter": {
            "hash": "6b409fcec316311f0579f7b2abcfc105cc4977695c0083bf500047f4f3c5adbf"
        },
        "kernelspec": {
            "display_name": "Python 3.9.6 64-bit ('.venv': poetry)",
            "name": "python3"
        },
        "language_info": {
            "codemirror_mode": {
                "name": "ipython",
                "version": 3
            },
            "file_extension": ".py",
            "mimetype": "text/x-python",
            "name": "python",
            "nbconvert_exporter": "python",
            "pygments_lexer": "ipython3",
            "version": "3.9.6"
        },
        "orig_nbformat": 4
    },
    "nbformat": 4,
    "nbformat_minor": 2
}
