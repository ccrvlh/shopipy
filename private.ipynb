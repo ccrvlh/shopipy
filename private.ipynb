{
    "cells": [
        {
            "cell_type": "code",
            "execution_count": 1,
            "source": [
                "# Private App\n",
                "# ===========\n",
                "from shopipy import ShopiPy\n",
                "\n",
                "# Set Credentials\n",
                "private_key = \"af6d2eb2314c5eaec148c1a03ab969a6\"\n",
                "private_password = \"1bb9e42331cbfbba0dd4ed072e715ee9\"\n",
                "shopify = ShopiPy(shop_domain=\"terral-natural\", app_key=private_key, app_password=private_password)"
            ],
            "outputs": [],
            "metadata": {}
        },
        {
            "cell_type": "code",
            "execution_count": 2,
            "source": [
                "# Retrieve information\n",
                "product = shopify.Products.get(\"432432432432\")\n",
                "orders = shopify.Orders.count()"
            ],
            "outputs": [],
            "metadata": {}
        },
        {
            "cell_type": "code",
            "execution_count": 3,
            "source": [
                "webhooks = shopify.Webhooks.get_webhooks(fields=\"id,topic,address\")\n",
                "test1 = shopify.Webhooks.set_webhooks(topics=[\"orders/edited\", \"orders/created\"], address=\"https://myapp.com/\")"
            ],
            "outputs": [],
            "metadata": {}
        },
        {
            "cell_type": "code",
            "execution_count": 6,
            "source": [
                "print(test1)"
            ],
            "outputs": [
                {
                    "output_type": "stream",
                    "name": "stdout",
                    "text": [
                        "None\n"
                    ]
                }
            ],
            "metadata": {}
        },
        {
            "cell_type": "code",
            "execution_count": null,
            "source": [],
            "outputs": [],
            "metadata": {}
        }
    ],
    "metadata": {
        "interpreter": {
            "hash": "e4906fc54ffe404aaf79745acf2f7ef587b0874861df685ca589c50c7cbdc0b5"
        },
        "kernelspec": {
            "name": "python3",
            "display_name": "Python 3.9.6 64-bit ('.venv': poetry)"
        },
        "language_info": {
            "codemirror_mode": {
                "name": "ipython",
                "version": 3
            },
            "file_extension": ".py",
            "mimetype": "text/x-python",
            "name": "python",
            "nbconvert_exporter": "python",
            "pygments_lexer": "ipython3",
            "version": "3.9.6"
        },
        "orig_nbformat": 4
    },
    "nbformat": 4,
    "nbformat_minor": 2
}