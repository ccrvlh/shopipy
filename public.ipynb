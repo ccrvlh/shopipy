{
    "cells": [
        {
            "cell_type": "code",
            "execution_count": null,
            "source": [
                "# Public App\n",
                "# ==========\n",
                "from shopipy import ShopiPy\n",
                "\n",
                "api_key = \"MY_API_KEY\"\n",
                "api_secret = \"MY_API_SECRET\"\n",
                "\n",
                "shopify = ShopiPy(api_key=api_key, api_secret=api_secret)\n",
                "\n",
                "# OAuth Flow\n",
                "shop_domain = \"MY_SHOP_DOMAIN\"\n",
                "state = \"my_super_secret_key\"\n",
                "redirect_uri = \"https://myapp.com/callback\"\n",
                "scopes = ['read_products', 'read_orders']\n",
                "\n",
                "auth_url = shopify.OAuth.create_permission_url(\n",
                "    shop_domain=shop_domain,\n",
                "    scopes=scopes,\n",
                "    redirect_uri=redirect_uri,\n",
                "    state=state\n",
                ")\n",
                "\n",
                "# Request Token from the Shopify request to the callback URL\n",
                "request_params = {}\n",
                "shopify = ShopiPy(shop_domain=shop_domain, api_key=api_key, api_secret=api_secret)\n",
                "access_token = shopify.OAuth.request_token(request_params)\n",
                "\n",
                "# Make an authenticated request\n",
                "# access_token = ShopifyAppDB.query.first_by(shop_domain=shop_domain).first()\n",
                "shopify = ShopiPy(shop_domain=shop_domain, access_token=access_token)\n",
                "product_list = shopify.Products.list_products()\n",
                "orders_count = shopify.Orders.count(status=\"open\")"
            ],
            "outputs": [],
            "metadata": {}
        }
    ],
    "metadata": {
        "interpreter": {
            "hash": "6b409fcec316311f0579f7b2abcfc105cc4977695c0083bf500047f4f3c5adbf"
        },
        "kernelspec": {
            "display_name": "Python 3.9.6 64-bit ('.venv': poetry)",
            "name": "python3"
        },
        "language_info": {
            "codemirror_mode": {
                "name": "ipython",
                "version": 3
            },
            "file_extension": ".py",
            "mimetype": "text/x-python",
            "name": "python",
            "nbconvert_exporter": "python",
            "pygments_lexer": "ipython3",
            "version": "3.9.6"
        },
        "orig_nbformat": 4
    },
    "nbformat": 4,
    "nbformat_minor": 2
}